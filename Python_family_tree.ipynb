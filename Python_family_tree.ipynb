{
 "cells": [
  {
   "cell_type": "markdown",
   "metadata": {},
   "source": [
    "#### Import neccesary libraries"
   ]
  },
  {
   "cell_type": "code",
   "execution_count": 1,
   "metadata": {},
   "outputs": [],
   "source": [
    "import csv"
   ]
  },
  {
   "cell_type": "markdown",
   "metadata": {},
   "source": [
    "#### Define required functions and classes"
   ]
  },
  {
   "cell_type": "code",
   "execution_count": 2,
   "metadata": {},
   "outputs": [],
   "source": [
    "# Reads and Sanitizes inputs taken from the User\n",
    "\n",
    "def sanitize_input(val):\n",
    "    if(val.strip() == \"\"):\n",
    "        return None\n",
    "    if(val.lower() == \"x\"):\n",
    "        return \"x\"\n",
    "    elif(val.lower()==\"y\" or val.lower()==\"yes\"):\n",
    "        return True\n",
    "    elif(val.lower()==\"n\" or val.lower()==\"no\"):\n",
    "        return False\n",
    "    elif(val.lower()==\"m\" or val.lower()==\"f\"):\n",
    "        return val.lower()\n",
    "    else:\n",
    "        return val"
   ]
  },
  {
   "cell_type": "code",
   "execution_count": 3,
   "metadata": {},
   "outputs": [],
   "source": [
    "# Class to store all data per person\n",
    "\n",
    "class TreeNode:\n",
    "    '''\n",
    "    Class for holding data of each node. Contains all information related to the person in the node.\n",
    "    '''        \n",
    "        \n",
    "    def __init__(self,name,Tree,sex = None,mother = None,father = None,children_ref = [],married = None):\n",
    "        '''\n",
    "        Create variables for the node\n",
    "        '''\n",
    "        self.name = name\n",
    "        self.sex = sex\n",
    "        self.mother = mother\n",
    "        self.father = father\n",
    "        self.children_ref = children_ref.copy()  \n",
    "        self.tree = Tree\n",
    "        self.pos = len(Tree)\n",
    "        self.married = married\n",
    "        \n",
    "    def display(self):\n",
    "        '''\n",
    "        Display all the variables of the node\n",
    "        '''\n",
    "        \n",
    "        print(\"\\n\")\n",
    "        print(\"self.name is :{}\".format(self.name))\n",
    "        print(\"self.pos value is: {}\".format(self.pos))\n",
    "        print(\"self.sex value is: {}\".format(self.sex))\n",
    "        \n",
    "        print(\"self.mother value is: {}\".format(self.mother))\n",
    "        print(\"self.father value is: {}\".format(self.father))\n",
    "        \n",
    "        print(\"self.married value is: {}\".format(self.married))\n",
    "        print(\"self.children_ref value is: {}\".format(self.children_ref)) \n",
    "        \n",
    "        print(\"Number of members in tree is : {}\".format(len(self.tree)))\n",
    "        \n",
    "        print(\"\\n\")\n",
    "\n",
    "    def update(self , is_married = False):\n",
    "        '''\n",
    "        Check and update all missing variable values of the node\n",
    "        '''\n",
    "#         print(\"-------------------------------\\n\")\n",
    "#         [i.display() for i in self.tree]\n",
    "        \n",
    "        #Check and add sex\n",
    "#         print(\"Update sex of {}\".format(self.name))\n",
    "        if(self.sex == None):\n",
    "            self.sex = sanitize_input(input(\"Enter {}'s gender (m/f): \".format(self.name)))\n",
    "         \n",
    "        #Ask if the person is married if not known\n",
    "#         print(\"Check if married {}\".format(self.name))\n",
    "        if(self.married == None and (not is_married)):\n",
    "            is_married = sanitize_input(input(\"Is {} married? (y/n): \".format(self.name)))\n",
    "            \n",
    "        #If married, ask for spouse name\n",
    "#         print(\"Ask spouse name {}\".format(self.name))\n",
    "        if(is_married):\n",
    "            self.married = sanitize_input(input(\"{}'s spouses name (x if not sure / blank if not needed): \".format(self.name)))\n",
    "        \n",
    "        #Is name spouse name isn't blank add spouse\n",
    "        \n",
    "        if(self.married!= None and is_married):\n",
    "#             print(\"Adding spouse node for {}\".format(self.name))\n",
    "            self.tree.append(TreeNode(self.married,self.tree,married = self.pos,children_ref = self.children_ref))\n",
    "            self.married = len(self.tree) - 1\n",
    "            \n",
    "            if(self.sex == \"m\"):\n",
    "                self.tree[-1].sex = \"f\"\n",
    "                for i in self.children_ref:\n",
    "                    self.tree[i].mother = self.married\n",
    "            else:\n",
    "                self.tree[-1].sex = \"m\"\n",
    "                for i in self.children_ref:\n",
    "                    self.tree[i].father = self.married\n",
    "        \n",
    "        #Check and add Children -> Also adds new node\n",
    "        if(is_married):            \n",
    "#             print(\"Check for children for {}\".format(self.name))\n",
    "            while(sanitize_input(input(\"Does {} have a {}th child? (y/n): \".format(self.name,len(self.children_ref)+1)))):\n",
    "                print(\"Known children: {}\".format([self.tree[i].name for i in self.children_ref]))\n",
    "                child = sanitize_input(input(\"Enter {}'s {}'th child's name (x if not sure / blank if not needed): \".format(self.name,len(self.children_ref)+1)))\n",
    "                \n",
    "#                 print(\"Adding Child node for {}\".format(self.name))\n",
    "                self.tree.append(TreeNode(child,self.tree))\n",
    "#                 print(\"Appending childref node for {}\".format(self.name))\n",
    "                self.children_ref.append(len(self.tree) - 1)\n",
    "                \n",
    "                if(self.married!=None):\n",
    "                    self.tree[self.married].children_ref.append(len(self.tree) - 1)\n",
    "#                 print(\"Updating childrens parent sex for {}\".format(self.name))\n",
    "                if(self.sex == \"m\"):\n",
    "                    self.tree[-1].father = self.pos\n",
    "                    self.tree[-1].mother = self.married\n",
    "                else:\n",
    "                    self.tree[-1].mother = self.pos\n",
    "                    self.tree[-1].father = self.married\n",
    "\n",
    "                self.tree[-1].update()\n",
    "        \n",
    "        #Update family relations of spouse\n",
    "#         print(\"Updating spouse node details for {}\".format(self.name))\n",
    "        if(self.married!= None and is_married):\n",
    "            self.tree[self.married].update()\n",
    "            \n",
    "        #Check and add mother -> Also adds new node\n",
    "        flag = 0\n",
    "        if(self.mother == None):    \n",
    "            self.mother = sanitize_input(input(\"Enter {}'s mother's name (x if not sure / blank if not needed): \".format(self.name)))\n",
    "            flag = 1\n",
    "#         print(\"Adding mopther node for {}\".format(self.name))\n",
    "        if(flag and (self.mother != None)):\n",
    "            self.tree.append(TreeNode(self.mother,self.tree))\n",
    "            self.tree[-1].sex = \"f\"\n",
    "            self.tree[-1].children_ref.append(self.pos)\n",
    "            self.mother = len(self.tree) - 1\n",
    "            self.tree[-1].update(is_married = True)\n",
    "            \n",
    "        #Check and add father -> Also adds new node \n",
    "        flag = 0\n",
    "        if(self.father == None):\n",
    "            self.father = sanitize_input(input(\"Enter {}'s father's name (x if not sure / blank if not needed): \".format(self.name)))\n",
    "            flag = 1\n",
    "            \n",
    "#         print(\"Adding Father node for {}\".format(self.name))\n",
    "        if(flag and (self.father != None)):\n",
    "            self.tree.append(TreeNode(self.father,self.tree))\n",
    "            self.father = len(self.tree) - 1\n",
    "            self.tree[-1].children_ref.append(self.pos)\n",
    "            self.tree[-1].sex = \"m\"\n",
    "            self.tree[-1].married = self.mother\n",
    "            self.tree[-1].update(is_married = True)\n"
   ]
  },
  {
   "cell_type": "code",
   "execution_count": 4,
   "metadata": {},
   "outputs": [],
   "source": [
    "def NewTree(name):\n",
    "    '''\n",
    "    Creates and Initialises a new family tree \n",
    "    '''\n",
    "    #List to hold all the members\n",
    "    family = []\n",
    "    \n",
    "    #Adds first member\n",
    "    family.append(TreeNode(name,family))\n",
    "    \n",
    "    #Iteratively adds new members\n",
    "    family[0].update()\n",
    "    \n",
    "    return family\n",
    "\n",
    "def SaveTree(Tree,file_name):\n",
    "    '''\n",
    "    Saves the tree as an csv file for record\n",
    "    '''\n",
    "    to_write = [[\"Sl_No\",\"Name\",\"Sex\",\"Mother\",\"Father\",\"Children\",\"Spouse\"]]\n",
    "    for node in Tree:\n",
    "        to_write+=[[\n",
    "            str(node.pos),\n",
    "            str(node.name),\n",
    "            str(node.sex),\n",
    "            str(node.mother),\n",
    "            str(node.father),\n",
    "            str(node.children_ref),\n",
    "            str(node.married)\n",
    "        ]]\n",
    "    \n",
    "    with open(file_name, \"w\", newline='') as csvout:\n",
    "        csvout = csv.writer(csvout)\n",
    "        csvout.writerows(to_write)\n",
    "            \n",
    "def ReadTree(file_name):\n",
    "    '''\n",
    "    Reads the tree from csv file\n",
    "    '''\n",
    "    File = []\n",
    "    with open(file_name, \"r\", newline='') as csvin:\n",
    "        csvin = csv.reader(csvin)\n",
    "        next(csvin)\n",
    "        for row in csvin:\n",
    "            File+=[[\n",
    "                int(row[0]) if row[0] != \"None\" else None,     #Reads pos\n",
    "                row[1] if row[1] != \"None\" else None,          #Reads name\n",
    "                row[2] if row[2] != \"None\" else None,          #Reads sex\n",
    "                int(row[3]) if row[3] != \"None\" else None,     #Reads mother position\n",
    "                int(row[4]) if row[4] != \"None\" else None,     #Reads father position\n",
    "                eval(row[5]) if row[5] != \"None\" else None,    #Reads children position\n",
    "                int(row[6]) if row[6] != \"None\" else None      #Reads spouse position\n",
    "            ]]\n",
    "            \n",
    "    Tree = []\n",
    "    for i in File:\n",
    "        Tree.append(TreeNode(name = i[1],\n",
    "                              Tree = Tree,\n",
    "                              sex=i[2],\n",
    "                              mother = i[3],\n",
    "                              father = i[4],\n",
    "                              children_ref = i[5],\n",
    "                              married = i[6]\n",
    "                             ))\n",
    "    return Tree"
   ]
  },
  {
   "cell_type": "markdown",
   "metadata": {},
   "source": [
    "#### Execute Code"
   ]
  },
  {
   "cell_type": "code",
   "execution_count": 13,
   "metadata": {},
   "outputs": [
    {
     "name": "stdout",
     "output_type": "stream",
     "text": [
      "Enter Adithya Jayan's gender (m/f): m\n",
      "Is Adithya Jayan married? (y/n): n\n",
      "Enter Adithya Jayan's mother's name (x if not sure / blank if not needed): Mini\n",
      "Mini's spouses name (x if not sure / blank if not needed): Jayan\n",
      "Does Mini have a 2th child? (y/n): y\n",
      "Known children: ['Adithya Jayan']\n",
      "Enter Mini's 2'th child's name (x if not sure / blank if not needed): Anirudh\n",
      "Enter Anirudh's gender (m/f): m\n",
      "Is Anirudh married? (y/n): n\n",
      "Does Mini have a 3th child? (y/n): n\n",
      "Enter Jayan's mother's name (x if not sure / blank if not needed): Thangamma\n",
      "Thangamma's spouses name (x if not sure / blank if not needed): Gopinathan\n",
      "Does Thangamma have a 2th child? (y/n): y\n",
      "Known children: ['Jayan']\n",
      "Enter Thangamma's 2'th child's name (x if not sure / blank if not needed): Shobhana\n",
      "Enter Shobhana's gender (m/f): f\n",
      "Is Shobhana married? (y/n): y\n",
      "Shobhana's spouses name (x if not sure / blank if not needed): Mani\n",
      "Does Shobhana have a 1th child? (y/n): y\n",
      "Known children: []\n",
      "Enter Shobhana's 1'th child's name (x if not sure / blank if not needed): Rajesh\n",
      "Enter Rajesh's gender (m/f): m\n",
      "Is Rajesh married? (y/n): y\n",
      "Rajesh's spouses name (x if not sure / blank if not needed): Deepthi\n",
      "Does Rajesh have a 1th child? (y/n): y\n",
      "Known children: []\n",
      "Enter Rajesh's 1'th child's name (x if not sure / blank if not needed): Meenakshi\n",
      "Enter Meenakshi's gender (m/f): f\n",
      "Is Meenakshi married? (y/n): n\n",
      "Does Rajesh have a 2th child? (y/n): y\n",
      "Known children: ['Meenakshi']\n",
      "Enter Rajesh's 2'th child's name (x if not sure / blank if not needed): Mithuna\n",
      "Enter Mithuna's gender (m/f): f\n",
      "Is Mithuna married? (y/n): n\n",
      "Does Rajesh have a 3th child? (y/n): y\n",
      "Known children: ['Meenakshi', 'Mithuna']\n",
      "Enter Rajesh's 3'th child's name (x if not sure / blank if not needed): Maheshwar\n",
      "Enter Maheshwar's gender (m/f): m\n",
      "Is Maheshwar married? (y/n): n\n",
      "Does Rajesh have a 4th child? (y/n): n\n",
      "Enter Deepthi's mother's name (x if not sure / blank if not needed): \n",
      "Enter Deepthi's father's name (x if not sure / blank if not needed): \n",
      "Does Shobhana have a 2th child? (y/n): \n",
      "Enter Mani's mother's name (x if not sure / blank if not needed): \n",
      "Enter Mani's father's name (x if not sure / blank if not needed): \n",
      "Does Thangamma have a 3th child? (y/n): \n",
      "Enter Gopinathan's mother's name (x if not sure / blank if not needed): \n",
      "Enter Gopinathan's father's name (x if not sure / blank if not needed): \n",
      "Enter Thangamma's mother's name (x if not sure / blank if not needed): \n",
      "Enter Thangamma's father's name (x if not sure / blank if not needed): \n",
      "Enter Mini's mother's name (x if not sure / blank if not needed): \n",
      "Enter Mini's father's name (x if not sure / blank if not needed): \n"
     ]
    }
   ],
   "source": [
    "My_family = NewTree(\"Adithya Jayan\")"
   ]
  },
  {
   "cell_type": "code",
   "execution_count": 14,
   "metadata": {},
   "outputs": [],
   "source": [
    "#Saves tree into file\n",
    "filename = \"Myfamily.csv\"\n",
    "SaveTree(My_family,filename)"
   ]
  },
  {
   "cell_type": "code",
   "execution_count": 15,
   "metadata": {},
   "outputs": [],
   "source": [
    "# for node in My_family:\n",
    "#     node.display()"
   ]
  },
  {
   "cell_type": "code",
   "execution_count": 16,
   "metadata": {},
   "outputs": [],
   "source": [
    "#Reads tree from file\n",
    "filename = \"Myfamily.csv\"\n",
    "Tree = ReadTree(filename)"
   ]
  },
  {
   "cell_type": "code",
   "execution_count": 9,
   "metadata": {},
   "outputs": [],
   "source": [
    "# for node in Tree:\n",
    "#     node.display()"
   ]
  },
  {
   "cell_type": "markdown",
   "metadata": {},
   "source": [
    "#### Temporary Plotting script"
   ]
  },
  {
   "cell_type": "code",
   "execution_count": 10,
   "metadata": {},
   "outputs": [
    {
     "name": "stderr",
     "output_type": "stream",
     "text": [
      "WARNING: You are using pip version 21.2.4; however, version 21.3 is available.\n",
      "You should consider upgrading via the 'c:\\users\\adith\\anaconda3\\python.exe -m pip install --upgrade pip' command.\n"
     ]
    },
    {
     "name": "stdout",
     "output_type": "stream",
     "text": [
      "Requirement already satisfied: networkx in c:\\users\\adith\\anaconda3\\lib\\site-packages (2.5)\n",
      "Requirement already satisfied: decorator>=4.3.0 in c:\\users\\adith\\anaconda3\\lib\\site-packages (from networkx) (4.4.2)\n"
     ]
    }
   ],
   "source": [
    "!pip install networkx \n",
    "\n",
    "import networkx as nx\n",
    "from networkx.drawing.nx_pydot import graphviz_layout\n",
    "\n",
    "import matplotlib.pyplot as plt\n",
    "import pydot"
   ]
  },
  {
   "cell_type": "code",
   "execution_count": 18,
   "metadata": {},
   "outputs": [],
   "source": [
    "def Graph(Tree):\n",
    "    print(\"******************  CONSTRUCTING GRAPH **********************\")\n",
    "    plt.figure(figsize=(16,16)) #Create new figure\n",
    "\n",
    "    G = nx.DiGraph() #Create graph object\n",
    "    plt.margins(x=0.2) # Add margin to prevent clipping\n",
    "\n",
    "    for position,node in enumerate(Tree):#Loop through all nodes\n",
    "        G.add_node(\"{}\\n({})\".format(node.name,node.pos))   #Add node to the graph    \n",
    "\n",
    "        #If not a leaf node, the add edges between node and children in graph\n",
    "        if(node.mother != None): \n",
    "            G.add_edge(\"{}\\n({})\".format(Tree[node.mother].name,Tree[node.mother].pos),\"{}\\n({})\".format(node.name,node.pos), Input=(\"Child\"),color='b')\n",
    "#         if(node.father != None):\n",
    "#             G.add_edge( \"{}\\n({})\".format(Tree[node.father].name,Tree[node.father].pos), \"{}\\n({})\".format(node.name,node.pos), Input=(\"Child\"),color='b')\n",
    "        if(node.married != None and node.sex == 'f'):\n",
    "            G.add_edge(\"{}\\n({})\".format(node.name,node.pos),\"{}\\n({})\".format(Tree[node.married].name,Tree[node.married].pos), Input=(\"Husband\"),color='g')\n",
    "\n",
    "    # Generate poitions for nodes in the graph\n",
    "    pos = graphviz_layout(G, prog=\"dot\")\n",
    "\n",
    "    #Create edge labels and colours\n",
    "    edge_labels = dict([((n1, n2), d['Input']) for n1, n2, d in G.edges(data=True)]) \n",
    "    colors = [G[u][v]['color'] for u,v in G.edges()]\n",
    "\n",
    "    #Draw the graph and labels\n",
    "    nx.draw(G, with_labels=True,pos=pos,style = \"solid\",connectionstyle=\"arc3,rad=0.01\",node_size = 3000,node_color=\"none\",edge_color=colors,width=2)\n",
    "    nx.draw_networkx_edge_labels(G, pos, edge_labels=edge_labels, label_pos=0.7,font_color='black', font_size=8, font_weight='bold')\n",
    "\n",
    "    #Display image\n",
    "    plt.show()"
   ]
  },
  {
   "cell_type": "code",
   "execution_count": 19,
   "metadata": {},
   "outputs": [
    {
     "name": "stdout",
     "output_type": "stream",
     "text": [
      "******************  CONSTRUCTING GRAPH **********************\n"
     ]
    },
    {
     "data": {
      "image/png": "[encoded data removed]",
      "text/plain": [
       "<Figure size 1152x1152 with 1 Axes>"
      ]
     },
     "metadata": {},
     "output_type": "display_data"
    }
   ],
   "source": [
    "Graph(Tree)"
   ]
  },
  {
   "cell_type": "code",
   "execution_count": null,
   "metadata": {},
   "outputs": [],
   "source": []
  }
 ],
 "metadata": {
  "kernelspec": {
   "display_name": "Python 3",
   "language": "python",
   "name": "python3"
  },
  "language_info": {
   "codemirror_mode": {
    "name": "ipython",
    "version": 3
   },
   "file_extension": ".py",
   "mimetype": "text/x-python",
   "name": "python",
   "nbconvert_exporter": "python",
   "pygments_lexer": "ipython3",
   "version": "3.8.5"
  }
 },
 "nbformat": 4,
 "nbformat_minor": 4
}
