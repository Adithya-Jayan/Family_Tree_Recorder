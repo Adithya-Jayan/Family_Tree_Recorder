{
 "cells": [
  {
   "cell_type": "code",
   "execution_count": 9,
   "metadata": {},
   "outputs": [
    {
     "ename": "SyntaxError",
     "evalue": "invalid syntax (<ipython-input-9-c8509e773f23>, line 17)",
     "output_type": "error",
     "traceback": [
      "\u001b[1;36m  File \u001b[1;32m\"<ipython-input-9-c8509e773f23>\"\u001b[1;36m, line \u001b[1;32m17\u001b[0m\n\u001b[1;33m    if(val == \"\" or val.toupper())\u001b[0m\n\u001b[1;37m                                  ^\u001b[0m\n\u001b[1;31mSyntaxError\u001b[0m\u001b[1;31m:\u001b[0m invalid syntax\n"
     ]
    }
   ],
   "source": [
    "class TreeNode:\n",
    "    '''\n",
    "    Class for holding data of each node. Contains all information related to the person in the node.\n",
    "    '''        \n",
    "        \n",
    "    def __init__(self,name,Tree):\n",
    "        '''\n",
    "        Create variables for the node\n",
    "        '''\n",
    "        self.name = name\n",
    "        self.sex = None\n",
    "        self.mother = None\n",
    "        self.father = None\n",
    "        self.children_ref = []  \n",
    "        self.tree = Tree\n",
    "        \n",
    "    def sanitize_input(val):\n",
    "        if(val.strip() == \"\"):\n",
    "            return None\n",
    "        elif(val.lower()==\"y\" or val.lower()==\"yes\"):\n",
    "            return True\n",
    "        elif(val.lower()==\"n\" or val.lower()==\"no\"):\n",
    "            return False\n",
    "        elif(val.lower()==\"m\" or val.lower()==\"f\"):\n",
    "            return val.upper()\n",
    "        else:\n",
    "            return val\n",
    "\n",
    "    def update(self):\n",
    "        if(self.sex == None):\n",
    "            self.sex = sanitize_input(input(\"Enter {}'s sex (m/f)\".format(self.name)))\n",
    "        if(self.mother == None):    \n",
    "            self.mother = sanitize_input(input(\"Enter {}'s mother's name\".format(self.name)))\n",
    "        if(self.father == None):\n",
    "            self.father = sanitize_input(input(\"Enter {}'s father's name\".format(self.name)))\n",
    "        \n",
    "        i  = 0\n",
    "        while(sanitize_input(input(\"{}'s {}th child? (y/n)\".format(self.name,i+1)))):\n",
    "            child = sanitize_input(input(\"Enter {}'s {}'th child's name\".format(self.name,i+1)))\n",
    "            self.tree.append(TreeNode(child))\n",
    "            self.children_ref.append(i)\n",
    "            i+=1\n",
    "        \n",
    "        if(self.mother!= None):\n",
    "            self.tree.append(TreeNode(self.mother,self.tree))\n",
    "            self.tree[-1]."
   ]
  },
  {
   "cell_type": "code",
   "execution_count": null,
   "metadata": {},
   "outputs": [],
   "source": [
    "#List to hold all the members\n",
    "Full_tree = []"
   ]
  },
  {
   "cell_type": "code",
   "execution_count": null,
   "metadata": {},
   "outputs": [],
   "source": []
  }
 ],
 "metadata": {
  "kernelspec": {
   "display_name": "Python 3",
   "language": "python",
   "name": "python3"
  },
  "language_info": {
   "codemirror_mode": {
    "name": "ipython",
    "version": 3
   },
   "file_extension": ".py",
   "mimetype": "text/x-python",
   "name": "python",
   "nbconvert_exporter": "python",
   "pygments_lexer": "ipython3",
   "version": "3.8.5"
  }
 },
 "nbformat": 4,
 "nbformat_minor": 4
}
